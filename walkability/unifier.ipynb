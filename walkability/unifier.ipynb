{
 "cells": [
  {
   "cell_type": "code",
   "execution_count": 1,
   "metadata": {},
   "outputs": [],
   "source": [
    "import geopandas as gpd"
   ]
  },
  {
   "cell_type": "code",
   "execution_count": 2,
   "metadata": {},
   "outputs": [],
   "source": [
    "import os\n",
    "import tqdm\n",
    "import pandas as pd"
   ]
  },
  {
   "cell_type": "code",
   "execution_count": 3,
   "metadata": {},
   "outputs": [],
   "source": [
    "def load(path):\n",
    "    try:\n",
    "        return gpd.read_file(path)\n",
    "    except:\n",
    "        return None\n",
    "all_files = os.listdir('./shapes')"
   ]
  },
  {
   "cell_type": "code",
   "execution_count": 4,
   "metadata": {},
   "outputs": [],
   "source": [
    "import pdb"
   ]
  },
  {
   "cell_type": "markdown",
   "metadata": {},
   "source": [
    "## Join all shapes in one and count"
   ]
  },
  {
   "cell_type": "code",
   "execution_count": 21,
   "metadata": {
    "scrolled": true
   },
   "outputs": [
    {
     "name": "stderr",
     "output_type": "stream",
     "text": [
      "100%|██████████████████████████████████████████████████████████████████████████████| 8565/8565 [14:06<00:00, 10.11it/s]\n"
     ]
    }
   ],
   "source": [
    "files=None\n",
    "errors =[]\n",
    "for file in tqdm.tqdm(all_files):\n",
    "    loaded = load('./shapes/'+file)\n",
    "    if files is None:\n",
    "        files=loaded\n",
    "    if loaded is not None:        \n",
    "        files = pd.concat([files, loaded])\n",
    "        del loaded\n",
    "    else:\n",
    "        errors.append(file)"
   ]
  },
  {
   "cell_type": "code",
   "execution_count": 22,
   "metadata": {},
   "outputs": [
    {
     "data": {
      "text/plain": [
       "(278810, 6)"
      ]
     },
     "execution_count": 22,
     "metadata": {},
     "output_type": "execute_result"
    }
   ],
   "source": [
    "files.shape#[0].head()"
   ]
  },
  {
   "cell_type": "code",
   "execution_count": 25,
   "metadata": {},
   "outputs": [
    {
     "data": {
      "text/plain": [
       "196922"
      ]
     },
     "execution_count": 25,
     "metadata": {},
     "output_type": "execute_result"
    }
   ],
   "source": [
    "# sum(files.set_index(['u','v']).index.duplicated())"
   ]
  },
  {
   "cell_type": "code",
   "execution_count": 123,
   "metadata": {},
   "outputs": [],
   "source": [
    "# files.groupby(['u','v']).count()"
   ]
  },
  {
   "cell_type": "code",
   "execution_count": 36,
   "metadata": {},
   "outputs": [],
   "source": [
    "all_index = list(files.set_index(['u','v']).index)"
   ]
  },
  {
   "cell_type": "code",
   "execution_count": 45,
   "metadata": {},
   "outputs": [],
   "source": [
    "new_index = files.apply(lambda x: str(set([x['u'],x['v']])),axis=1)"
   ]
  },
  {
   "cell_type": "code",
   "execution_count": 47,
   "metadata": {},
   "outputs": [],
   "source": [
    "files['new_index'] = new_index"
   ]
  },
  {
   "cell_type": "code",
   "execution_count": 51,
   "metadata": {},
   "outputs": [],
   "source": [
    "files['length'] = files.geometry.length"
   ]
  },
  {
   "cell_type": "code",
   "execution_count": 54,
   "metadata": {},
   "outputs": [],
   "source": [
    "files = files.sort_values('length', ascending=False)"
   ]
  },
  {
   "cell_type": "code",
   "execution_count": 70,
   "metadata": {},
   "outputs": [],
   "source": [
    "del files"
   ]
  },
  {
   "cell_type": "code",
   "execution_count": 67,
   "metadata": {},
   "outputs": [],
   "source": [
    "final_dataframe = []\n",
    "count = 0"
   ]
  },
  {
   "cell_type": "code",
   "execution_count": 69,
   "metadata": {},
   "outputs": [],
   "source": [
    "# for index, group in files.groupby('new_index'):\n",
    "#     print(count,)\n",
    "#     geometry = group.iloc[0].geometry\n",
    "#     name=group.name.sort_values().iloc[0]\n",
    "#     final_dataframe.append({'index':index, 'value':len(group), 'name':name, 'geometry': geometry})\n",
    "#     count+=1"
   ]
  },
  {
   "cell_type": "code",
   "execution_count": 71,
   "metadata": {},
   "outputs": [],
   "source": [
    "final_gdf = gpd.GeoDataFrame(final_dataframe)"
   ]
  },
  {
   "cell_type": "code",
   "execution_count": 102,
   "metadata": {},
   "outputs": [],
   "source": [
    "final_gdf[(final_gdf.centroid.x>=-8) & (final_gdf.centroid.x<=37) & (final_gdf.centroid.y>=34)].rename(columns={'value':'walkability', 'name':'street'}).to_file('muv_walkability.geojson', driver='GeoJSON', encoding='utf_8')"
   ]
  },
  {
   "cell_type": "code",
   "execution_count": 101,
   "metadata": {},
   "outputs": [],
   "source": [
    "final_gdf.to_file('final_muv_geod')"
   ]
  },
  {
   "cell_type": "markdown",
   "metadata": {},
   "source": [
    "## Top palermo"
   ]
  },
  {
   "cell_type": "code",
   "execution_count": 120,
   "metadata": {},
   "outputs": [],
   "source": [
    "palermo = final_gdf[(final_gdf.centroid.y>=38.10) & (final_gdf.centroid.y<=38.21) & (final_gdf.centroid.x>=13.29)& (final_gdf.centroid.x<=13.46)]"
   ]
  },
  {
   "cell_type": "code",
   "execution_count": 118,
   "metadata": {},
   "outputs": [
    {
     "data": {
      "text/html": [
       "<div>\n",
       "<style scoped>\n",
       "    .dataframe tbody tr th:only-of-type {\n",
       "        vertical-align: middle;\n",
       "    }\n",
       "\n",
       "    .dataframe tbody tr th {\n",
       "        vertical-align: top;\n",
       "    }\n",
       "\n",
       "    .dataframe thead th {\n",
       "        text-align: right;\n",
       "    }\n",
       "</style>\n",
       "<table border=\"1\" class=\"dataframe\">\n",
       "  <thead>\n",
       "    <tr style=\"text-align: right;\">\n",
       "      <th></th>\n",
       "      <th>index</th>\n",
       "      <th>value</th>\n",
       "      <th>name</th>\n",
       "      <th>geometry</th>\n",
       "    </tr>\n",
       "  </thead>\n",
       "  <tbody>\n",
       "    <tr>\n",
       "      <th>31364</th>\n",
       "      <td>{3321195889, 3943304050}</td>\n",
       "      <td>2</td>\n",
       "      <td>nan</td>\n",
       "      <td>LINESTRING (13.32979 38.10707, 13.32979 38.107...</td>\n",
       "    </tr>\n",
       "    <tr>\n",
       "      <th>35585</th>\n",
       "      <td>{3943304050, 5102016547}</td>\n",
       "      <td>1</td>\n",
       "      <td>Via Tasca Lanza</td>\n",
       "      <td>LINESTRING (13.32988 38.10703, 13.32989 38.10693)</td>\n",
       "    </tr>\n",
       "    <tr>\n",
       "      <th>36703</th>\n",
       "      <td>{416421697, 3943304050}</td>\n",
       "      <td>1</td>\n",
       "      <td>Via Tasca Lanza</td>\n",
       "      <td>LINESTRING (13.32980 38.10788, 13.32986 38.107...</td>\n",
       "    </tr>\n",
       "    <tr>\n",
       "      <th>36704</th>\n",
       "      <td>{416421697, 513405271}</td>\n",
       "      <td>2</td>\n",
       "      <td>nan</td>\n",
       "      <td>LINESTRING (13.32980 38.10788, 13.32987 38.108...</td>\n",
       "    </tr>\n",
       "    <tr>\n",
       "      <th>36705</th>\n",
       "      <td>{416421720, 5102733518}</td>\n",
       "      <td>4</td>\n",
       "      <td>nan</td>\n",
       "      <td>LINESTRING (13.32921 38.10234, 13.32929 38.10238)</td>\n",
       "    </tr>\n",
       "    <tr>\n",
       "      <th>...</th>\n",
       "      <td>...</td>\n",
       "      <td>...</td>\n",
       "      <td>...</td>\n",
       "      <td>...</td>\n",
       "    </tr>\n",
       "    <tr>\n",
       "      <th>48848</th>\n",
       "      <td>{599956616, 416421695}</td>\n",
       "      <td>1</td>\n",
       "      <td>Via Tasca Lanza</td>\n",
       "      <td>LINESTRING (13.32956 38.10995, 13.32961 38.109...</td>\n",
       "    </tr>\n",
       "    <tr>\n",
       "      <th>48849</th>\n",
       "      <td>{599956616, 416421697}</td>\n",
       "      <td>1</td>\n",
       "      <td>Via Tasca Lanza</td>\n",
       "      <td>LINESTRING (13.32964 38.10903, 13.32965 38.108...</td>\n",
       "    </tr>\n",
       "    <tr>\n",
       "      <th>49306</th>\n",
       "      <td>{6096651892, 5067374063}</td>\n",
       "      <td>1</td>\n",
       "      <td>nan</td>\n",
       "      <td>LINESTRING (13.32388 38.10321, 13.32392 38.10289)</td>\n",
       "    </tr>\n",
       "    <tr>\n",
       "      <th>51302</th>\n",
       "      <td>{6416543184, 513405298}</td>\n",
       "      <td>6</td>\n",
       "      <td>Corso Calatafimi</td>\n",
       "      <td>LINESTRING (13.32934 38.10267, 13.32992 38.10290)</td>\n",
       "    </tr>\n",
       "    <tr>\n",
       "      <th>51303</th>\n",
       "      <td>{6416543184, 567833987}</td>\n",
       "      <td>4</td>\n",
       "      <td>Via Giuseppe Pollaci</td>\n",
       "      <td>LINESTRING (13.32979 38.10321, 13.32988 38.102...</td>\n",
       "    </tr>\n",
       "  </tbody>\n",
       "</table>\n",
       "<p>61 rows × 4 columns</p>\n",
       "</div>"
      ],
      "text/plain": [
       "                          index  value                  name  \\\n",
       "31364  {3321195889, 3943304050}      2                   nan   \n",
       "35585  {3943304050, 5102016547}      1       Via Tasca Lanza   \n",
       "36703   {416421697, 3943304050}      1       Via Tasca Lanza   \n",
       "36704    {416421697, 513405271}      2                   nan   \n",
       "36705   {416421720, 5102733518}      4                   nan   \n",
       "...                         ...    ...                   ...   \n",
       "48848    {599956616, 416421695}      1       Via Tasca Lanza   \n",
       "48849    {599956616, 416421697}      1       Via Tasca Lanza   \n",
       "49306  {6096651892, 5067374063}      1                   nan   \n",
       "51302   {6416543184, 513405298}      6      Corso Calatafimi   \n",
       "51303   {6416543184, 567833987}      4  Via Giuseppe Pollaci   \n",
       "\n",
       "                                                geometry  \n",
       "31364  LINESTRING (13.32979 38.10707, 13.32979 38.107...  \n",
       "35585  LINESTRING (13.32988 38.10703, 13.32989 38.10693)  \n",
       "36703  LINESTRING (13.32980 38.10788, 13.32986 38.107...  \n",
       "36704  LINESTRING (13.32980 38.10788, 13.32987 38.108...  \n",
       "36705  LINESTRING (13.32921 38.10234, 13.32929 38.10238)  \n",
       "...                                                  ...  \n",
       "48848  LINESTRING (13.32956 38.10995, 13.32961 38.109...  \n",
       "48849  LINESTRING (13.32964 38.10903, 13.32965 38.108...  \n",
       "49306  LINESTRING (13.32388 38.10321, 13.32392 38.10289)  \n",
       "51302  LINESTRING (13.32934 38.10267, 13.32992 38.10290)  \n",
       "51303  LINESTRING (13.32979 38.10321, 13.32988 38.102...  \n",
       "\n",
       "[61 rows x 4 columns]"
      ]
     },
     "execution_count": 118,
     "metadata": {},
     "output_type": "execute_result"
    }
   ],
   "source": [
    "palermo"
   ]
  },
  {
   "cell_type": "code",
   "execution_count": null,
   "metadata": {},
   "outputs": [],
   "source": []
  }
 ],
 "metadata": {
  "kernelspec": {
   "display_name": "geo2",
   "language": "python",
   "name": "geo2"
  },
  "language_info": {
   "codemirror_mode": {
    "name": "ipython",
    "version": 3
   },
   "file_extension": ".py",
   "mimetype": "text/x-python",
   "name": "python",
   "nbconvert_exporter": "python",
   "pygments_lexer": "ipython3",
   "version": "3.7.7"
  },
  "varInspector": {
   "cols": {
    "lenName": 16,
    "lenType": 16,
    "lenVar": 40
   },
   "kernels_config": {
    "python": {
     "delete_cmd_postfix": "",
     "delete_cmd_prefix": "del ",
     "library": "var_list.py",
     "varRefreshCmd": "print(var_dic_list())"
    },
    "r": {
     "delete_cmd_postfix": ") ",
     "delete_cmd_prefix": "rm(",
     "library": "var_list.r",
     "varRefreshCmd": "cat(var_dic_list()) "
    }
   },
   "types_to_exclude": [
    "module",
    "function",
    "builtin_function_or_method",
    "instance",
    "_Feature"
   ],
   "window_display": false
  }
 },
 "nbformat": 4,
 "nbformat_minor": 4
}

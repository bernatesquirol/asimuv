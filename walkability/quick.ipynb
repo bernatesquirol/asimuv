{
 "cells": [
  {
   "cell_type": "code",
   "execution_count": 1,
   "metadata": {},
   "outputs": [],
   "source": [
    "import pandas as pd"
   ]
  },
  {
   "cell_type": "code",
   "execution_count": 2,
   "metadata": {},
   "outputs": [],
   "source": [
    "import geopandas as gpd"
   ]
  },
  {
   "cell_type": "code",
   "execution_count": 3,
   "metadata": {},
   "outputs": [],
   "source": [
    "import math\n",
    "import osmnx as ox"
   ]
  },
  {
   "cell_type": "code",
   "execution_count": 4,
   "metadata": {},
   "outputs": [],
   "source": [
    "import shapely as sh"
   ]
  },
  {
   "cell_type": "code",
   "execution_count": 5,
   "metadata": {},
   "outputs": [],
   "source": [
    "segments_data = pd.read_csv('segments.csv')"
   ]
  },
  {
   "cell_type": "code",
   "execution_count": 6,
   "metadata": {},
   "outputs": [],
   "source": [
    "def get_coord(coords, inverted=False):\n",
    "    if inverted:\n",
    "        return sh.geometry.LineString([(c[1],c[0]) for c in coords])    \n",
    "    return sh.geometry.LineString([(c[0],c[1]) for c in coords])"
   ]
  },
  {
   "cell_type": "code",
   "execution_count": null,
   "metadata": {},
   "outputs": [],
   "source": []
  },
  {
   "cell_type": "code",
   "execution_count": 7,
   "metadata": {},
   "outputs": [],
   "source": [
    "segments_data['geometry']=segments_data['route_wkt'].apply(lambda x: get_coord(sh.wkt.loads(x).coords))"
   ]
  },
  {
   "cell_type": "code",
   "execution_count": 8,
   "metadata": {},
   "outputs": [],
   "source": [
    "segments_data = segments_data.drop(columns=['route_wkt'])"
   ]
  },
  {
   "cell_type": "code",
   "execution_count": 9,
   "metadata": {},
   "outputs": [],
   "source": [
    "segments = gpd.GeoDataFrame(segments_data)"
   ]
  },
  {
   "cell_type": "code",
   "execution_count": 10,
   "metadata": {},
   "outputs": [],
   "source": [
    "walking = segments[segments['modal_type']=='Walking'].copy()"
   ]
  },
  {
   "cell_type": "code",
   "execution_count": 11,
   "metadata": {},
   "outputs": [],
   "source": [
    "walking = walking.sort_values('distance_travelled', ascending=False)"
   ]
  },
  {
   "cell_type": "code",
   "execution_count": 12,
   "metadata": {},
   "outputs": [],
   "source": [
    "walking = walking.drop_duplicates('route_id', keep='first')"
   ]
  },
  {
   "cell_type": "code",
   "execution_count": 13,
   "metadata": {},
   "outputs": [],
   "source": [
    "walking['velocity']=walking.distance_travelled/(walking.time_travelled/3600)"
   ]
  },
  {
   "cell_type": "code",
   "execution_count": 14,
   "metadata": {},
   "outputs": [],
   "source": [
    "walking_enough = walking[(walking.distance_travelled>0.5)&(walking['velocity']<6)]"
   ]
  },
  {
   "cell_type": "code",
   "execution_count": 98,
   "metadata": {},
   "outputs": [],
   "source": [
    "def save_osmnx_network(route_data, plot=False):\n",
    "    route = route_data.geometry\n",
    "    polygon = route.buffer(0.0003)\n",
    "    G_route = ox.graph_from_polygon(polygon, network_type='walk')\n",
    "    G_e = ox.graph_to_gdfs(G_route, nodes=False)\n",
    "    G_e.to_pickle('edges/{}.gpkl'.format(route_data.route_id))\n",
    "    G_n = ox.graph_to_gdfs(G_route, edges=False)\n",
    "    G_n.to_pickle('nodes/{}.gpkl'.format(route_data.route_id))\n",
    "    return G_route"
   ]
  },
  {
   "cell_type": "code",
   "execution_count": 58,
   "metadata": {},
   "outputs": [],
   "source": [
    "def quick_near_edges(G_route, x, y):\n",
    "    edges = []\n",
    "    nearest_nodes = ox.get_nearest_nodes(G_route, x, y)\n",
    "    for i, node in enumerate(nearest_nodes):\n",
    "        if i==len(nearest_nodes)-1:\n",
    "            break\n",
    "        shortest_path = ox.nx.shortest_path(G_route, nearest_nodes[i], nearest_nodes[i+1])\n",
    "        if len(shortest_path)>=2 and len(shortest_path)<=5:\n",
    "            for i, e in enumerate(shortest_path):\n",
    "                if i>0:\n",
    "                    edges.append(shortest_path[i-1:i+1])\n",
    "    return edges"
   ]
  },
  {
   "cell_type": "code",
   "execution_count": 101,
   "metadata": {},
   "outputs": [],
   "source": [
    "def save_geojson(G_route, plot=False):\n",
    "    route = route_data.geometry\n",
    "    polygon = route.buffer(0.0005)\n",
    "    G_route = ox.graph_from_polygon(polygon, network_type='walk')\n",
    "    x,y = route.coords.xy\n",
    "    nearest_edges = quick_near_edges(G_route, x, y)\n",
    "    if plot:\n",
    "        m=ox.plot_graph_folium(ox.geo_utils.induce_subgraph(G_route,np.hstack(nearest_edges)))\n",
    "        plot_points(get_coord(route.coords,inverted=True).coords , m)\n",
    "        return m\n",
    "    edge_attributes = ox.graph_to_gdfs(G_route, nodes=False)\n",
    "    edge_attributes = edge_attributes[['u','v','osmid','geometry', 'name']].set_index(['u', 'v'])\n",
    "    good_edges = edge_attributes.loc[[tuple(l) for l in nearest_edges]]\n",
    "    good_edges.osmid = good_edges.osmid.apply(lambda x: '-'.join([str(idx) for idx in x]) if type(x) == list else str(x))\n",
    "    good_edges.name = good_edges.name.apply(lambda x: '-'.join([str(idx) for idx in x]) if type(x) == list else str(x))\n",
    "    good_edges = good_edges[~good_edges.index.duplicated(keep='first')].copy()\n",
    "    good_edges['color']=0\n",
    "    good_edges[['name','geometry','color']].to_file('shapes/{}.geojson'.format(route_data.route_id),driver='GeoJSON',  encoding='utf_8')"
   ]
  },
  {
   "cell_type": "code",
   "execution_count": 106,
   "metadata": {},
   "outputs": [],
   "source": [
    "part_2 = walking_enough[int(len(walking_enough)/2)+21:]"
   ]
  },
  {
   "cell_type": "code",
   "execution_count": 107,
   "metadata": {},
   "outputs": [],
   "source": [
    "errors = []"
   ]
  },
  {
   "cell_type": "code",
   "execution_count": null,
   "metadata": {},
   "outputs": [],
   "source": []
  },
  {
   "cell_type": "code",
   "execution_count": null,
   "metadata": {},
   "outputs": [
    {
     "name": "stderr",
     "output_type": "stream",
     "text": [
      " 14%|█████████▉                                                            | 1390/9814 [12:05:41<296:03:34, 126.52s/it]"
     ]
    }
   ],
   "source": [
    "for i, route_data in tqdm.tqdm(part_2.iterrows(),  total=part_2.shape[0]):\n",
    "    try:\n",
    "        save_geojson(route_data)\n",
    "    except:\n",
    "        errors.append(i)"
   ]
  },
  {
   "cell_type": "code",
   "execution_count": null,
   "metadata": {},
   "outputs": [],
   "source": []
  }
 ],
 "metadata": {
  "kernelspec": {
   "display_name": "Python 3",
   "language": "python",
   "name": "python3"
  },
  "language_info": {
   "codemirror_mode": {
    "name": "ipython",
    "version": 3
   },
   "file_extension": ".py",
   "mimetype": "text/x-python",
   "name": "python",
   "nbconvert_exporter": "python",
   "pygments_lexer": "ipython3",
   "version": "3.7.7"
  },
  "varInspector": {
   "cols": {
    "lenName": 16,
    "lenType": 16,
    "lenVar": 40
   },
   "kernels_config": {
    "python": {
     "delete_cmd_postfix": "",
     "delete_cmd_prefix": "del ",
     "library": "var_list.py",
     "varRefreshCmd": "print(var_dic_list())"
    },
    "r": {
     "delete_cmd_postfix": ") ",
     "delete_cmd_prefix": "rm(",
     "library": "var_list.r",
     "varRefreshCmd": "cat(var_dic_list()) "
    }
   },
   "types_to_exclude": [
    "module",
    "function",
    "builtin_function_or_method",
    "instance",
    "_Feature"
   ],
   "window_display": false
  }
 },
 "nbformat": 4,
 "nbformat_minor": 4
}
